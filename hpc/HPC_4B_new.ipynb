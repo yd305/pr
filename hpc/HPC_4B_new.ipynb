{
  "nbformat": 4,
  "nbformat_minor": 0,
  "metadata": {
    "colab": {
      "provenance": [],
      "gpuType": "T4"
    },
    "kernelspec": {
      "name": "python3",
      "display_name": "Python 3"
    },
    "language_info": {
      "name": "python"
    },
    "accelerator": "GPU",
    "gpuClass": "standard"
  },
  "cells": [
    {
      "cell_type": "code",
      "execution_count": 1,
      "metadata": {
        "colab": {
          "base_uri": "https://localhost:8080/"
        },
        "id": "7tH-3TJfWH0J",
        "outputId": "c5a7625c-258b-4903-b0e8-0cebbb71ea87"
      },
      "outputs": [
        {
          "output_type": "stream",
          "name": "stdout",
          "text": [
            "nvcc: NVIDIA (R) Cuda compiler driver\n",
            "Copyright (c) 2005-2022 NVIDIA Corporation\n",
            "Built on Wed_Sep_21_10:33:58_PDT_2022\n",
            "Cuda compilation tools, release 11.8, V11.8.89\n",
            "Build cuda_11.8.r11.8/compiler.31833905_0\n"
          ]
        }
      ],
      "source": [
        "!nvcc --version"
      ]
    },
    {
      "cell_type": "code",
      "source": [
        "code = \"\"\"\n",
        "#include <stdio.h>\n",
        "#include <stdlib.h>\n",
        "\n",
        "#define N 1024\n",
        "#define BLOCK_SIZE 16\n",
        "\n",
        "__global__ void matrixMul(int *a, int *b, int *c, int width) {\n",
        "    int row = blockIdx.y * blockDim.y + threadIdx.y;\n",
        "    int col = blockIdx.x * blockDim.x + threadIdx.x;\n",
        "    int sum = 0;\n",
        "    for (int i = 0; i < width; i++) {\n",
        "        sum += a[row * width + i] * b[i * width + col];\n",
        "    }\n",
        "    c[row * width + col] = sum;\n",
        "}\n",
        "\n",
        "int main() {\n",
        "    int *a, *b, *c;\n",
        "    int *d_a, *d_b, *d_c;\n",
        "    int size = N * N * sizeof(int);\n",
        "\n",
        "    // Allocate memory on host\n",
        "    a = (int*)malloc(size);\n",
        "    b = (int*)malloc(size);\n",
        "    c = (int*)malloc(size);\n",
        "\n",
        "    // Initialize matrices\n",
        "    for (int i = 0; i < N; i++) {\n",
        "        for (int j = 0; j < N; j++) {\n",
        "            a[i * N + j] = i + j;\n",
        "            b[i * N + j] = i - j;\n",
        "        }\n",
        "    }\n",
        "\n",
        "    // Allocate memory on device\n",
        "    cudaMalloc(&d_a, size);\n",
        "    cudaMalloc(&d_b, size);\n",
        "    cudaMalloc(&d_c, size);\n",
        "\n",
        "    // Copy data from host to device\n",
        "    cudaMemcpy(d_a, a, size, cudaMemcpyHostToDevice);\n",
        "    cudaMemcpy(d_b, b, size, cudaMemcpyHostToDevice);\n",
        "\n",
        "    // Launch kernel with 2D grid and 2D block\n",
        "    dim3 dimBlock(BLOCK_SIZE, BLOCK_SIZE);\n",
        "    dim3 dimGrid((N + dimBlock.x - 1) / dimBlock.x, (N + dimBlock.y - 1) / dimBlock.y);\n",
        "    matrixMul<<<dimGrid, dimBlock>>>(d_a, d_b, d_c, N);\n",
        "\n",
        "    // Copy result from device to host\n",
        "    cudaMemcpy(c, d_c, size, cudaMemcpyDeviceToHost);\n",
        "\n",
        "    // Print first and last elements of result\n",
        "    printf(\"c[0][0] = %d, c[%d][%d] = %d\", c[0], N-1, N-1, c[(N-1) * N + (N-1)]);\n",
        "\n",
        "    // Free memory\n",
        "    free(a);\n",
        "    free(b);\n",
        "    free(c);\n",
        "    cudaFree(d_a);\n",
        "    cudaFree(d_b);\n",
        "    cudaFree(d_c);\n",
        "\n",
        "    return 0;\n",
        "}\n",
        "\n",
        "\n",
        "\"\"\""
      ],
      "metadata": {
        "id": "cPu5be37WPqD"
      },
      "execution_count": 5,
      "outputs": []
    },
    {
      "cell_type": "code",
      "source": [
        "text_file = open(\"assign4b.cu\",\"w\")\n",
        "text_file.write(code)\n",
        "text_file.close()"
      ],
      "metadata": {
        "id": "yGHaivFdWXLs"
      },
      "execution_count": 6,
      "outputs": []
    },
    {
      "cell_type": "code",
      "source": [
        "!nvcc assign4b.cu"
      ],
      "metadata": {
        "id": "dF6_HluvWhk8"
      },
      "execution_count": 7,
      "outputs": []
    },
    {
      "cell_type": "code",
      "source": [
        "!./a.out"
      ],
      "metadata": {
        "colab": {
          "base_uri": "https://localhost:8080/"
        },
        "id": "YKAOmnYGWklU",
        "outputId": "4189e394-ed77-46d1-9dae-171c37f551f6"
      },
      "execution_count": 8,
      "outputs": [
        {
          "output_type": "stream",
          "name": "stdout",
          "text": [
            "c[0][0] = 357389824, c[1023][1023] = -714255872"
          ]
        }
      ]
    },
    {
      "cell_type": "code",
      "source": [
        "!nvprof ./a.out"
      ],
      "metadata": {
        "colab": {
          "base_uri": "https://localhost:8080/"
        },
        "id": "kM-1t2anWl0J",
        "outputId": "b79c8b8d-b85c-48e8-fcdd-265267aa8e6e"
      },
      "execution_count": 9,
      "outputs": [
        {
          "output_type": "stream",
          "name": "stdout",
          "text": [
            "==939== NVPROF is profiling process 939, command: ./a.out\n",
            "==939== Profiling application: ./a.out\n",
            "c[0][0] = 357389824, c[1023][1023] = -714255872==939== Profiling result:\n",
            "            Type  Time(%)      Time     Calls       Avg       Min       Max  Name\n",
            " GPU activities:   70.94%  9.1100ms         1  9.1100ms  9.1100ms  9.1100ms  matrixMul(int*, int*, int*, int)\n",
            "                   15.21%  1.9532ms         1  1.9532ms  1.9532ms  1.9532ms  [CUDA memcpy DtoH]\n",
            "                   13.85%  1.7782ms         2  889.09us  884.09us  894.08us  [CUDA memcpy HtoD]\n",
            "      API calls:   94.19%  276.44ms         3  92.146ms  119.31us  276.20ms  cudaMalloc\n",
            "                    5.11%  15.010ms         3  5.0034ms  1.1188ms  12.758ms  cudaMemcpy\n",
            "                    0.35%  1.0392ms         1  1.0392ms  1.0392ms  1.0392ms  cuDeviceGetPCIBusId\n",
            "                    0.23%  678.78us         3  226.26us  219.79us  233.19us  cudaFree\n",
            "                    0.07%  212.76us       101  2.1060us     310ns  78.656us  cuDeviceGetAttribute\n",
            "                    0.02%  56.497us         1  56.497us  56.497us  56.497us  cuDeviceGetName\n",
            "                    0.01%  40.948us         1  40.948us  40.948us  40.948us  cudaLaunchKernel\n",
            "                    0.00%  2.2660us         3     755ns     377ns  1.5050us  cuDeviceGetCount\n",
            "                    0.00%  1.2130us         2     606ns     306ns     907ns  cuDeviceGet\n",
            "                    0.00%     857ns         1     857ns     857ns     857ns  cuDeviceTotalMem\n",
            "                    0.00%     466ns         1     466ns     466ns     466ns  cuModuleGetLoadingMode\n",
            "                    0.00%     440ns         1     440ns     440ns     440ns  cuDeviceGetUuid\n"
          ]
        }
      ]
    },
    {
      "cell_type": "code",
      "source": [],
      "metadata": {
        "id": "5-mr_fwMX5R5"
      },
      "execution_count": null,
      "outputs": []
    }
  ]
}