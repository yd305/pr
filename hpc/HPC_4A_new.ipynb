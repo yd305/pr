{
  "nbformat": 4,
  "nbformat_minor": 0,
  "metadata": {
    "colab": {
      "provenance": [],
      "gpuType": "T4"
    },
    "kernelspec": {
      "name": "python3",
      "display_name": "Python 3"
    },
    "language_info": {
      "name": "python"
    },
    "accelerator": "GPU",
    "gpuClass": "standard"
  },
  "cells": [
    {
      "cell_type": "markdown",
      "source": [
        "## Assignment 4A - Vector Addition"
      ],
      "metadata": {
        "id": "_NyvWNt0Vvix"
      }
    },
    {
      "cell_type": "code",
      "source": [
        "!nvcc --version"
      ],
      "metadata": {
        "colab": {
          "base_uri": "https://localhost:8080/"
        },
        "id": "lSL6xfqZS3hh",
        "outputId": "dbc60002-0573-4c34-b116-a0c89b65a2f3"
      },
      "execution_count": 1,
      "outputs": [
        {
          "output_type": "stream",
          "name": "stdout",
          "text": [
            "nvcc: NVIDIA (R) Cuda compiler driver\n",
            "Copyright (c) 2005-2022 NVIDIA Corporation\n",
            "Built on Wed_Sep_21_10:33:58_PDT_2022\n",
            "Cuda compilation tools, release 11.8, V11.8.89\n",
            "Build cuda_11.8.r11.8/compiler.31833905_0\n"
          ]
        }
      ]
    },
    {
      "cell_type": "code",
      "execution_count": 12,
      "metadata": {
        "id": "iQ-2Wa7vSeu8"
      },
      "outputs": [],
      "source": [
        "code = \"\"\"\n",
        "\n",
        "#include <stdio.h>\n",
        "#include <stdlib.h>\n",
        "\n",
        "#define N 1000000\n",
        "\n",
        "__global__ void add(int *a, int *b, int *c) {\n",
        "    int tid = blockIdx.x * blockDim.x + threadIdx.x;\n",
        "    if (tid < N) {\n",
        "        c[tid] = a[tid] + b[tid];\n",
        "    }\n",
        "}\n",
        "\n",
        "int main() {\n",
        "    int *a, *b, *c;\n",
        "    int *d_a, *d_b, *d_c;\n",
        "    int size = N * sizeof(int);\n",
        "\n",
        "    // Allocate memory on host\n",
        "    a = (int*)malloc(size);\n",
        "    b = (int*)malloc(size);\n",
        "    c = (int*)malloc(size);\n",
        "\n",
        "    // Initialize arrays\n",
        "    for (int i = 0; i < N; i++) {\n",
        "        a[i] = i;\n",
        "        b[i] = i * 2;\n",
        "    }\n",
        "\n",
        "    // Allocate memory on device\n",
        "    cudaMalloc(&d_a, size);\n",
        "    cudaMalloc(&d_b, size);\n",
        "    cudaMalloc(&d_c, size);\n",
        "\n",
        "    // Copy data from host to device\n",
        "    cudaMemcpy(d_a, a, size, cudaMemcpyHostToDevice);\n",
        "    cudaMemcpy(d_b, b, size, cudaMemcpyHostToDevice);\n",
        "\n",
        "    // Launch kernel with 1 million threads\n",
        "    add<<<(N + 255) / 256, 256>>>(d_a, d_b, d_c);\n",
        "\n",
        "    // Copy result from device to host\n",
        "    cudaMemcpy(c, d_c, size, cudaMemcpyDeviceToHost);\n",
        "\n",
        "    // Print first and last elements of result\n",
        "    printf(\"c[0]=%d, c[%d] = %d\",c[0],N-1,c[N-1]);\n",
        "\n",
        "    // Free memory\n",
        "    free(a);\n",
        "    free(b);\n",
        "    free(c);\n",
        "    cudaFree(d_a);\n",
        "    cudaFree(d_b);\n",
        "    cudaFree(d_c);\n",
        "\n",
        "    return 0;\n",
        "}\n",
        "\"\"\""
      ]
    },
    {
      "cell_type": "code",
      "source": [
        "text_file = open(\"assign4.cu\",\"w\")\n",
        "text_file.write(code)\n",
        "text_file.close()"
      ],
      "metadata": {
        "id": "3i3GGyhhS_m1"
      },
      "execution_count": 13,
      "outputs": []
    },
    {
      "cell_type": "code",
      "source": [
        "!nvcc assign4.cu"
      ],
      "metadata": {
        "id": "YnM4poi6TRC1"
      },
      "execution_count": 14,
      "outputs": []
    },
    {
      "cell_type": "code",
      "source": [
        "!./a.out"
      ],
      "metadata": {
        "colab": {
          "base_uri": "https://localhost:8080/"
        },
        "id": "o-t45DImVPRZ",
        "outputId": "94a60127-7118-403f-8a9b-b320ddffeff5"
      },
      "execution_count": 15,
      "outputs": [
        {
          "output_type": "stream",
          "name": "stdout",
          "text": [
            "c[0]=0, c[999999] = 2999997"
          ]
        }
      ]
    },
    {
      "cell_type": "code",
      "source": [
        "!nvprof ./a.out"
      ],
      "metadata": {
        "colab": {
          "base_uri": "https://localhost:8080/"
        },
        "id": "_zo5qqFDTYm1",
        "outputId": "3cb8dc96-66c0-4bc1-a41e-f96f1c4c5364"
      },
      "execution_count": 16,
      "outputs": [
        {
          "output_type": "stream",
          "name": "stdout",
          "text": [
            "==1065== NVPROF is profiling process 1065, command: ./a.out\n",
            "==1065== Profiling application: ./a.out\n",
            "==1065== Profiling result:\n",
            "            Type  Time(%)      Time     Calls       Avg       Min       Max  Name\n",
            " GPU activities:   51.91%  1.9264ms         1  1.9264ms  1.9264ms  1.9264ms  [CUDA memcpy DtoH]\n",
            "                   46.81%  1.7372ms         2  868.62us  813.34us  923.90us  [CUDA memcpy HtoD]\n",
            "                    1.28%  47.455us         1  47.455us  47.455us  47.455us  add(int*, int*, int*)\n",
            "      API calls:   97.16%  268.79ms         3  89.598ms  100.42us  268.58ms  cudaMalloc\n",
            "                    2.08%  5.7679ms         3  1.9226ms  1.0787ms  3.5174ms  cudaMemcpy\n",
            "                    0.44%  1.2053ms         1  1.2053ms  1.2053ms  1.2053ms  cuDeviceGetPCIBusId\n",
            "                    0.24%  676.53us         3  225.51us  205.02us  237.71us  cudaFree\n",
            "                    0.05%  143.16us       101  1.4170us     133ns  73.062us  cuDeviceGetAttribute\n",
            "                    0.01%  37.564us         1  37.564us  37.564us  37.564us  cudaLaunchKernel\n",
            "                    0.01%  25.957us         1  25.957us  25.957us  25.957us  cuDeviceGetName\n",
            "                    0.00%  1.6580us         3     552ns     218ns  1.2050us  cuDeviceGetCount\n",
            "                    0.00%  1.0080us         2     504ns     192ns     816ns  cuDeviceGet\n",
            "                    0.00%     505ns         1     505ns     505ns     505ns  cuModuleGetLoadingMode\n",
            "                    0.00%     447ns         1     447ns     447ns     447ns  cuDeviceTotalMem\n",
            "                    0.00%     280ns         1     280ns     280ns     280ns  cuDeviceGetUuid\n",
            "c[0]=0, c[999999] = 2999997"
          ]
        }
      ]
    },
    {
      "cell_type": "code",
      "source": [],
      "metadata": {
        "id": "cJbYGgkEVL2f"
      },
      "execution_count": null,
      "outputs": []
    }
  ]
}